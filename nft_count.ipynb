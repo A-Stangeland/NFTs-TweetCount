{
 "cells": [
  {
   "cell_type": "code",
   "execution_count": 1,
   "metadata": {},
   "outputs": [],
   "source": [
    "import pandas as pd\n",
    "import numpy as np\n",
    "import matplotlib.pyplot as plt"
   ]
  },
  {
   "cell_type": "code",
   "execution_count": 2,
   "metadata": {},
   "outputs": [
    {
     "data": {
      "text/html": [
       "<div>\n",
       "<style scoped>\n",
       "    .dataframe tbody tr th:only-of-type {\n",
       "        vertical-align: middle;\n",
       "    }\n",
       "\n",
       "    .dataframe tbody tr th {\n",
       "        vertical-align: top;\n",
       "    }\n",
       "\n",
       "    .dataframe thead th {\n",
       "        text-align: right;\n",
       "    }\n",
       "</style>\n",
       "<table border=\"1\" class=\"dataframe\">\n",
       "  <thead>\n",
       "    <tr style=\"text-align: right;\">\n",
       "      <th></th>\n",
       "      <th>Date</th>\n",
       "      <th>SalesUSD</th>\n",
       "    </tr>\n",
       "  </thead>\n",
       "  <tbody>\n",
       "    <tr>\n",
       "      <th>0</th>\n",
       "      <td>2017-06-22</td>\n",
       "      <td>0.00</td>\n",
       "    </tr>\n",
       "    <tr>\n",
       "      <th>1</th>\n",
       "      <td>2017-06-23</td>\n",
       "      <td>1020.30</td>\n",
       "    </tr>\n",
       "    <tr>\n",
       "      <th>2</th>\n",
       "      <td>2017-06-24</td>\n",
       "      <td>1240.84</td>\n",
       "    </tr>\n",
       "    <tr>\n",
       "      <th>3</th>\n",
       "      <td>2017-06-25</td>\n",
       "      <td>517.55</td>\n",
       "    </tr>\n",
       "    <tr>\n",
       "      <th>4</th>\n",
       "      <td>2017-06-26</td>\n",
       "      <td>424.63</td>\n",
       "    </tr>\n",
       "  </tbody>\n",
       "</table>\n",
       "</div>"
      ],
      "text/plain": [
       "        Date  SalesUSD\n",
       "0 2017-06-22      0.00\n",
       "1 2017-06-23   1020.30\n",
       "2 2017-06-24   1240.84\n",
       "3 2017-06-25    517.55\n",
       "4 2017-06-26    424.63"
      ]
     },
     "execution_count": 2,
     "metadata": {},
     "output_type": "execute_result"
    }
   ],
   "source": [
    "nft_price = pd.read_csv('NFT_price.csv', sep=';', decimal=',')\n",
    "nft_price['Date'] = pd.to_datetime(nft_price['Date'])\n",
    "nft_price.head()"
   ]
  },
  {
   "cell_type": "code",
   "execution_count": 4,
   "metadata": {},
   "outputs": [
    {
     "data": {
      "text/html": [
       "<div>\n",
       "<style scoped>\n",
       "    .dataframe tbody tr th:only-of-type {\n",
       "        vertical-align: middle;\n",
       "    }\n",
       "\n",
       "    .dataframe tbody tr th {\n",
       "        vertical-align: top;\n",
       "    }\n",
       "\n",
       "    .dataframe thead th {\n",
       "        text-align: right;\n",
       "    }\n",
       "</style>\n",
       "<table border=\"1\" class=\"dataframe\">\n",
       "  <thead>\n",
       "    <tr style=\"text-align: right;\">\n",
       "      <th></th>\n",
       "      <th>Date</th>\n",
       "      <th>Open</th>\n",
       "      <th>High</th>\n",
       "      <th>Low</th>\n",
       "      <th>Close</th>\n",
       "      <th>AdjClose</th>\n",
       "      <th>Volume</th>\n",
       "    </tr>\n",
       "  </thead>\n",
       "  <tbody>\n",
       "    <tr>\n",
       "      <th>0</th>\n",
       "      <td>2017-01-01</td>\n",
       "      <td>7.98231</td>\n",
       "      <td>8.47123</td>\n",
       "      <td>7.98231</td>\n",
       "      <td>8.17257</td>\n",
       "      <td>8.17257</td>\n",
       "      <td>14731700.0</td>\n",
       "    </tr>\n",
       "    <tr>\n",
       "      <th>1</th>\n",
       "      <td>2017-01-02</td>\n",
       "      <td>8.17087</td>\n",
       "      <td>8.43633</td>\n",
       "      <td>8.05441</td>\n",
       "      <td>8.37851</td>\n",
       "      <td>8.37851</td>\n",
       "      <td>14579600.0</td>\n",
       "    </tr>\n",
       "    <tr>\n",
       "      <th>2</th>\n",
       "      <td>2017-01-03</td>\n",
       "      <td>8.37458</td>\n",
       "      <td>9.99680</td>\n",
       "      <td>8.31717</td>\n",
       "      <td>9.72525</td>\n",
       "      <td>9.72525</td>\n",
       "      <td>33625200.0</td>\n",
       "    </tr>\n",
       "    <tr>\n",
       "      <th>3</th>\n",
       "      <td>2017-01-04</td>\n",
       "      <td>9.70929</td>\n",
       "      <td>11.27640</td>\n",
       "      <td>9.55981</td>\n",
       "      <td>11.25160</td>\n",
       "      <td>11.25160</td>\n",
       "      <td>41051200.0</td>\n",
       "    </tr>\n",
       "    <tr>\n",
       "      <th>4</th>\n",
       "      <td>2017-01-05</td>\n",
       "      <td>11.28680</td>\n",
       "      <td>11.89090</td>\n",
       "      <td>9.40268</td>\n",
       "      <td>10.25440</td>\n",
       "      <td>10.25440</td>\n",
       "      <td>41557400.0</td>\n",
       "    </tr>\n",
       "  </tbody>\n",
       "</table>\n",
       "</div>"
      ],
      "text/plain": [
       "        Date      Open      High      Low     Close  AdjClose      Volume\n",
       "0 2017-01-01   7.98231   8.47123  7.98231   8.17257   8.17257  14731700.0\n",
       "1 2017-01-02   8.17087   8.43633  8.05441   8.37851   8.37851  14579600.0\n",
       "2 2017-01-03   8.37458   9.99680  8.31717   9.72525   9.72525  33625200.0\n",
       "3 2017-01-04   9.70929  11.27640  9.55981  11.25160  11.25160  41051200.0\n",
       "4 2017-01-05  11.28680  11.89090  9.40268  10.25440  10.25440  41557400.0"
      ]
     },
     "execution_count": 4,
     "metadata": {},
     "output_type": "execute_result"
    }
   ],
   "source": [
    "eth_price = pd.read_csv('ETH-USD.csv')\n",
    "eth_price['Date'] = pd.to_datetime(eth_price['Date'])\n",
    "eth_price.head()"
   ]
  },
  {
   "cell_type": "code",
   "execution_count": null,
   "metadata": {},
   "outputs": [],
   "source": [
    "import requests\n",
    "import os\n",
    "import json\n",
    "import datetime\n",
    "import dateutil.parser\n",
    "import unicodedata\n",
    "import time"
   ]
  }
 ],
 "metadata": {
  "kernelspec": {
   "display_name": "Python 3.9.7 ('5gmm')",
   "language": "python",
   "name": "python3"
  },
  "language_info": {
   "codemirror_mode": {
    "name": "ipython",
    "version": 3
   },
   "file_extension": ".py",
   "mimetype": "text/x-python",
   "name": "python",
   "nbconvert_exporter": "python",
   "pygments_lexer": "ipython3",
   "version": "3.9.7"
  },
  "orig_nbformat": 4,
  "vscode": {
   "interpreter": {
    "hash": "7b195e7126f11a069212606e0091f0ed49e6d400ee3e8e3aeac2d2068d7f63cf"
   }
  }
 },
 "nbformat": 4,
 "nbformat_minor": 2
}
